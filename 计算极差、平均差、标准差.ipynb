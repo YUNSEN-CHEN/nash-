{
 "cells": [
  {
   "cell_type": "code",
   "execution_count": 2,
   "id": "8043159e",
   "metadata": {},
   "outputs": [],
   "source": [
    "import numpy as np\n",
    "data1=[5.1,5.2,5.4,5.4,5.5,5.6,5.8,5.8,6.1]\n",
    "data2=[6.2,6.3,6.5,6.5,6.6,6.7,7.1,7.0,7.3]"
   ]
  },
  {
   "cell_type": "code",
   "execution_count": 13,
   "id": "c9ec386f",
   "metadata": {},
   "outputs": [
    {
     "data": {
      "image/png": "[encoded data removed]",
      "text/plain": [
       "<Figure size 432x288 with 1 Axes>"
      ]
     },
     "metadata": {
      "needs_background": "light"
     },
     "output_type": "display_data"
    }
   ],
   "source": [
    "import matplotlib.pyplot as plt\n",
    "plt.plot(data1,label='data1')\n",
    "plt.plot(data2,label='data2')\n",
    "plt.legend(loc=4)\n",
    "plt.show()"
   ]
  },
  {
   "cell_type": "code",
   "execution_count": 17,
   "id": "96f5ead5",
   "metadata": {},
   "outputs": [
    {
     "name": "stdout",
     "output_type": "stream",
     "text": [
      "1.0\n",
      "1.0999999999999996\n"
     ]
    }
   ],
   "source": [
    "#求极差\n",
    "data1_ptp=np.ptp(data1)\n",
    "data2_ptp=np.ptp(data2)\n",
    "print(data1_ptp)\n",
    "print(data2_ptp)"
   ]
  },
  {
   "cell_type": "code",
   "execution_count": 24,
   "id": "dc069ebb",
   "metadata": {},
   "outputs": [],
   "source": [
    "#计算平均差设计一个子函数\n",
    "def mean_de(data):\n",
    "    return sum(abs(data-np.mean(data)))/len(data)\n",
    "    "
   ]
  },
  {
   "cell_type": "code",
   "execution_count": 25,
   "id": "c197da14",
   "metadata": {},
   "outputs": [
    {
     "name": "stdout",
     "output_type": "stream",
     "text": [
      "0.24938271604938253\n",
      "0.2987654320987654\n"
     ]
    }
   ],
   "source": [
    "#求平均差\n",
    "data1_mean=mean_de(data1)\n",
    "data2_mean=mean_de(data2)\n",
    "print(data1_mean)\n",
    "print(data2_mean)"
   ]
  },
  {
   "cell_type": "code",
   "execution_count": 26,
   "id": "a994e601",
   "metadata": {},
   "outputs": [
    {
     "name": "stdout",
     "output_type": "stream",
     "text": [
      "0.2985561965009866\n",
      "0.3510126444206958\n"
     ]
    }
   ],
   "source": [
    "#求标准差\n",
    "data1_std=np.std(data1)\n",
    "data2_std=np.std(data2)\n",
    "print(data1_std)\n",
    "print(data2_std)"
   ]
  }
 ],
 "metadata": {
  "kernelspec": {
   "display_name": "Python 3 (ipykernel)",
   "language": "python",
   "name": "python3"
  },
  "language_info": {
   "codemirror_mode": {
    "name": "ipython",
    "version": 3
   },
   "file_extension": ".py",
   "mimetype": "text/x-python",
   "name": "python",
   "nbconvert_exporter": "python",
   "pygments_lexer": "ipython3",
   "version": "3.9.7"
  }
 },
 "nbformat": 4,
 "nbformat_minor": 5
}
