{
 "cells": [
  {
   "cell_type": "code",
   "execution_count": 12,
   "id": "33bb3209",
   "metadata": {},
   "outputs": [
    {
     "data": {
      "text/plain": [
       "<BarContainer object of 7 artists>"
      ]
     },
     "execution_count": 12,
     "metadata": {},
     "output_type": "execute_result"
    },
    {
     "data": {
      "image/png": "[encoded data removed]",
      "text/plain": [
       "<Figure size 720x504 with 1 Axes>"
      ]
     },
     "metadata": {
      "needs_background": "light"
     },
     "output_type": "display_data"
    }
   ],
   "source": [
    "import numpy as np\n",
    "data1=[199,274,305,545,305,274,199]\n",
    "data2=['应届毕业生','一年以下','1-3年','3-5年','5-10年','10-20年','不限']\n",
    "import matplotlib.pyplot as plt\n",
    "plt.rcParams['font.sans-serif']=['SimHei']#解决乱码问题\n",
    "\n",
    "fig, ax = plt.subplots(figsize=(10, 7))\n",
    "ax.bar(x=data2, height=data1)\n",
    "#ax.set_title(\"Simple Bar Plot\", fontsize=15)\n",
    "#近似正态分布"
   ]
  },
  {
   "cell_type": "code",
   "execution_count": 14,
   "id": "dcc6f710",
   "metadata": {},
   "outputs": [
    {
     "data": {
      "text/plain": [
       "300.14285714285717"
      ]
     },
     "execution_count": 14,
     "metadata": {},
     "output_type": "execute_result"
    }
   ],
   "source": [
    "#均值\n",
    "np.mean(data1)"
   ]
  },
  {
   "cell_type": "code",
   "execution_count": 16,
   "id": "957ffbb6",
   "metadata": {},
   "outputs": [
    {
     "data": {
      "text/plain": [
       "274.0"
      ]
     },
     "execution_count": 16,
     "metadata": {},
     "output_type": "execute_result"
    }
   ],
   "source": [
    "#中位数\n",
    "np.median(data1)"
   ]
  },
  {
   "cell_type": "code",
   "execution_count": 17,
   "id": "5d98b87f",
   "metadata": {},
   "outputs": [
    {
     "data": {
      "text/plain": [
       "199"
      ]
     },
     "execution_count": 17,
     "metadata": {},
     "output_type": "execute_result"
    }
   ],
   "source": [
    "#众数\n",
    "from scipy import stats\n",
    "stats.mode(data1)[0][0]"
   ]
  }
 ],
 "metadata": {
  "kernelspec": {
   "display_name": "Python 3 (ipykernel)",
   "language": "python",
   "name": "python3"
  },
  "language_info": {
   "codemirror_mode": {
    "name": "ipython",
    "version": 3
   },
   "file_extension": ".py",
   "mimetype": "text/x-python",
   "name": "python",
   "nbconvert_exporter": "python",
   "pygments_lexer": "ipython3",
   "version": "3.9.7"
  }
 },
 "nbformat": 4,
 "nbformat_minor": 5
}
